{
 "cells": [
  {
   "cell_type": "code",
   "execution_count": 74,
   "id": "f487d8ef",
   "metadata": {},
   "outputs": [],
   "source": [
    "def punch_card(r,c):\n",
    "    first_check=True\n",
    "    string_to_print='+-'\n",
    "    dummany_pattern='. .'\n",
    "    counter=0\n",
    "    for i in range(0,r):\n",
    "        str_final=''\n",
    "#         if first_check==True:\n",
    "#             str_final=dummany_pattern+string\n",
    "        if first_check:\n",
    "            counter+=1\n",
    "            for j in range(0,c):\n",
    "               \n",
    "                str_final=dummany_pattern+string_to_print\n",
    "              \n",
    "                continue\n",
    "#         print(str_final)\n",
    "        if counter==2:\n",
    "            first_check=False\n",
    "#             print(counter)\n",
    "        if not first_check:\n",
    "            \n",
    "            for j in range(0,c):\n",
    "                    str_final=str_final+string_to_print\n",
    "            if counter==2:\n",
    "                print(str_final[0:len(str_final)-1])\n",
    "                print(str_final[0:len(str_final)-1])\n",
    "                counter+=1\n",
    "\n",
    "            else:\n",
    "                print(str_final[0:len(str_final)-1])\n",
    "\n",
    "\n",
    "#         print(str_final)\n",
    "    "
   ]
  },
  {
   "cell_type": "code",
   "execution_count": 75,
   "id": "d2cd45dd",
   "metadata": {},
   "outputs": [
    {
     "name": "stdout",
     "output_type": "stream",
     "text": [
      ". .+-+-+-+\n",
      ". .+-+-+-+\n",
      "+-+-+\n",
      "+-+-+\n"
     ]
    }
   ],
   "source": [
    "punch_card(4,3)"
   ]
  },
  {
   "cell_type": "code",
   "execution_count": null,
   "id": "2dba9a37",
   "metadata": {},
   "outputs": [],
   "source": []
  },
  {
   "cell_type": "code",
   "execution_count": null,
   "id": "d4790232",
   "metadata": {},
   "outputs": [],
   "source": []
  }
 ],
 "metadata": {
  "kernelspec": {
   "display_name": "Python 3 (ipykernel)",
   "language": "python",
   "name": "python3"
  },
  "language_info": {
   "codemirror_mode": {
    "name": "ipython",
    "version": 3
   },
   "file_extension": ".py",
   "mimetype": "text/x-python",
   "name": "python",
   "nbconvert_exporter": "python",
   "pygments_lexer": "ipython3",
   "version": "3.9.12"
  }
 },
 "nbformat": 4,
 "nbformat_minor": 5
}
